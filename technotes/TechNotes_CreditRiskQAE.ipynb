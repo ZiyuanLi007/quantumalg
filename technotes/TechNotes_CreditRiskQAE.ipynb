{
 "cells": [
  {
   "cell_type": "markdown",
   "id": "d9a6c761",
   "metadata": {},
   "source": [
    "# Credit Risk with Quantum Amplitude Estimation (QAE)"
   ]
  },
  {
   "cell_type": "markdown",
   "id": "2ab1f233",
   "metadata": {},
   "source": [
    "> Contact : Ziyuan Li (stan.ziyuan.li@hsbc.com.cn) \n",
    "\n",
    "```\n",
    "************************************************\n",
    "Goal of this technotes:\n",
    "    1. Know the idea of credit risk and general approach to perform analysis with quantum algorithm\n",
    "    2. Know how to prepare the quantum circuit for this task\n",
    "    3. Know how to run Credit Risk with Qiskit\n",
    "************************************************   \n",
    "```"
   ]
  },
  {
   "cell_type": "markdown",
   "id": "35cc9912",
   "metadata": {},
   "source": [
    "## Motivation\n",
    "The economic capital requirement is the difference between the value at risk and the expected loss. It is designed to cover losses between the expected loss and the value at risk at a given confidence level. Extreme losses, i.e., those beyond the value at risk, are not covered by the economic capital requirement\n",
    "\n",
    "<img src=\"https://raw.githubusercontent.com/ZiyuanLi007/quantumalg/main/technotes/images/cr/qcalg_cr_ecr.png\" width=\"500\">\n",
    "\n",
    "For a portfolio of $K$ assets the multivariate random variable $(L_1, L_2, ..., L_K)$ denotes each possible loss associated to each asset. The expected value of the total loss is $E[L] = \\sum_{k=1}^K E[L_K]$. The value at risk (VaR) for a given confidence level $\\alpha$ is defined as the smallest total loss that still has a probability greater than or equal to $\\alpha$, i.e.,\n",
    "\n",
    "$$ \\text{VaR}_{\\alpha}(L) = \\inf_{x \\ge 0} \\{ x \\mid \\mathbb{P}[L <= x] \\geq \\alpha \\}$$\n",
    "\n",
    "The economic capital requirement at confidence level $\\alpha$ is thus defined as the difference between the value at risk and the expected loss\n",
    "\n",
    "$$ \\text{ECR}_{\\alpha}(L) = \\text{VaR}_{\\alpha}(L) - E[L] $$\n",
    "\n",
    "Quantum amplitude estimation algorithm can be used to estimate financial risk measures such as the value at risk and the conditional value at risk with a quadratic speedup compared to classical Monte Carlo simulations.\n",
    "\n"
   ]
  },
  {
   "cell_type": "markdown",
   "id": "48c8d2fe",
   "metadata": {},
   "source": [
    "## 1. Conditional Independence Model\n",
    "\n",
    "For simplicity, if  we assume that all losses are independent and can be expressed as $L_k = \\lambda_k X_k$, where $\\lambda_k > 0$ is the loss given default (LGD) and $X_k \\in \\{0,1\\}$ is corresponding Bernoulli random variable. The probability that $X_k = 1$, i.e., a loss for asset k, is $p_k$. The expected total loss is given by $E[L] = \\sum_{k=1}^K \\lambda_k p_k$. \n",
    "\n",
    "In practice, asset defaults are often correlated, especially in periods of financial stress. The defaults $X_k$ are no longer independent but follow a condi- tional independence scheme, i.e., given a value $z$ sampled from a latent random variable $Z$ following a standard normal distribution, the default probability of asset $k$ is given by\n",
    "\n",
    "$$p_k(z) = F\\left( \\frac{F^{-1}(p_k^0) - \\sqrt{\\rho_k}z}{\\sqrt{1 - \\rho_k}} \\right) $$\n",
    "\n",
    "where $F$ denotes the cumulative distribution function of $Z$, $p_k^0$ is the default probability of asset $k$ for $z=0$ and $\\rho_k$ is the sensitivity of the default probability of asset $k$ with respect to $Z$. Thus, given a concrete realization of $Z$ the individual default events are assumed to be independent from each other. The expected loss is\n",
    "\n",
    "$$ E[L] = \\int_{z=-\\infty}^{\\infty} \\sum_{k=1}^K \\lambda_k p_k(z) f(z) dz $$\n",
    "\n",
    "where $f(z)$ is the PDF function of $Z$"
   ]
  },
  {
   "cell_type": "markdown",
   "id": "42d63ba9",
   "metadata": {},
   "source": [
    "## 2. Quantum Circuit Construction\n",
    "To apply quantum computation, the primary task is to load the correlated default risk for each asset of the portfolio into the quantum circuit.\n",
    "\n",
    "<h3><center> High level circuit of the operator $A$</center></h3>\n",
    "<img src=\"https://raw.githubusercontent.com/ZiyuanLi007/quantumalg/main/technotes/images/cr/qcalg_cr_Acircuit.png\" width=\"600\">\n",
    "\n",
    "The first qubit register with $n_Z$ qubits represents the latent random variable $Z$, the second qubit register with $K$ qubits represents the Bernoulli random variables $X_k$ of each asset, the third qubit register with $n_S$ qubits represents the sum of the losses. Then it comes to the comparator operator $C$ and the last qubit is flipped to $|1\\rangle$ if the total loss is less than or equal to a given $x$\n",
    "\n"
   ]
  },
  {
   "cell_type": "markdown",
   "id": "152254e4",
   "metadata": {},
   "source": [
    "### Step 1. Load  Z distribution using operator $U_Z$\n",
    "We use $n_z$ qubits to discretize the distribution to $2^{n_z}$ slots. \n",
    "\n",
    "<img src=\"https://raw.githubusercontent.com/ZiyuanLi007/quantumalg/main/technotes/images/cr/qcalg_cr_UZ.png\" width=\"300\">\n",
    "\n",
    "Operator $U_Z$ (**GaussianConditionalIndependenceModel**) inputs the state $|0\\rangle^{\\otimes n_z}$ for these $n_z$ qubits, and output $|\\psi\\rangle_{U_Z}$, a superposition of $2^{n_z}$ entangled states:\n",
    "\n",
    "$$|\\psi\\rangle_{U_Z} = \\sum_{z=0}^{2^{n_z}-1} \\sqrt{f(z)} |z\\rangle$$"
   ]
  },
  {
   "cell_type": "markdown",
   "id": "cb84539e",
   "metadata": {},
   "source": [
    "### Step 2. Load  uncorrelated default using operator using operator $L_X$\n",
    "When the default events $\\{X_1, X_2, ..., X_K\\}$ are uncorrelated, we can encode the $X_k$ of each asset in the state of a corresponding qubit by applying to qubit $k$ a Y-rotation $R_Y(\\theta_p^k)$ with angle $\\theta_p^k = 2 \\arcsin(\\sqrt{p_k^0})$. The operator $L_X$ involves $n_x$ qubits to load the $n_x$ independent assets. For each of the $n_x$ qubits, operator $L_X$ inputs the initial state $|0\\rangle^{\\otimes n_x}$ and outputs the state:\n",
    "\n",
    "$$|\\psi\\rangle_{L_X} = (\\sqrt{1-p_k^0}|0\\rangle + \\sqrt{p_k^0}|1\\rangle)^{\\otimes n_x}$$\n",
    "\n",
    "so that the probability for state $|1\\rangle$ encodes the default probability $p_k^0$ "
   ]
  },
  {
   "cell_type": "markdown",
   "id": "e1c2cec9",
   "metadata": {},
   "source": [
    "### Step 3. Load correlated default using operator $L_Z$\n",
    "The qubit register representing $Z$ is then used to control the rotation angles $\\theta_p^k(z) = 2 \\arcsin(\\sqrt{p_k(z)})$ that prepare the qubits representing the $X_k$. For simplicity, a first order approximation of $\\theta_p^k(z)$ and include the affine mapping from $z$ to $i$ ($i \\in \\{0, ..., 2^{n_z}-1\\}$), i.e. $\\theta_p^k(z) \\approx a_k i + b_k$.\n",
    "\n",
    "<h3><center>The qubit representing $X_k$ is prepared using Y-rotations controlled by the qubits representing Z.</center></h3>\n",
    "<img src=\"https://raw.githubusercontent.com/ZiyuanLi007/quantumalg/main/technotes/images/cr/qcalg_cr_LZ.png\" width=\"600\">\n",
    "\n",
    "In short, operator $L_Z$ inputs $\\sum_{z=0}^{2^{n_z}-1} \\sqrt{f(z)} |z\\rangle$ and $(\\sqrt{1-p_k^0}|0\\rangle + \\sqrt{p_k^0}|1\\rangle)^{\\otimes n_x}$ from $U_Z$ and $U_X$ and outputs the further entangled state:\n",
    "\n",
    "$$|\\psi\\rangle_{L_Z} = \\sum_{z=0}^{2^{n_z}-1} \\sqrt{f(z)} |z\\rangle (\\sqrt{1-p_k(z)}|0\\rangle + \\sqrt{p_k(z)}|1\\rangle)^{\\otimes n_x}$$\n"
   ]
  },
  {
   "cell_type": "markdown",
   "id": "fe35121b",
   "metadata": {},
   "source": [
    "### Step 4. Load total loss using operator $S$\n",
    "\n",
    "Furthermore, we set an operator $S$ to sum up the loss due to all default events in this asset pool. The maximum loss would be $\\sum \\lambda_k$ when all assets default, so ensuring the maximum loss to be encoded needs $n_s$ qubits that $\\sum \\lambda_k \\le 2^{n_s} − 1$. The operator $S$ (**WeightedAdder**) inputs the state $|\\psi\\rangle_{L_Z} |0\\rangle^{\\otimes 2^{n_s} − 1}$, and output the state\n",
    "\n",
    "$$|\\psi\\rangle_{S} = |\\psi\\rangle_{L_Z} | \\sum_{k=1}^K \\lambda_k p_k(z) \\rangle_{ns} |c\\rangle^{\\otimes {n_s} − 1} $$\n",
    "\n",
    "The first $n_s$ qubits are used to load the sum of loss $L = \\sum_{k=1}^K \\lambda_k p_k(z)$. The next $n_s − 1$ qubits are used as the carry qubits $|c\\rangle$. \n",
    "\n",
    "Once we have the total loss distribution in a quantum register, we can map a total loss $L \\in \\{0, ..., 2^{n_s}-1\\}$ to the amplitude of an objective qubit by an operator (**LinearAmplitudeFunction**)\n",
    "\n",
    "$$ | L \\rangle_{n_s}|0\\rangle \\mapsto \n",
    "| L \\rangle_{n_s} \\left( \\sqrt{1 - L/(2^{n_s}-1)}|0\\rangle + \\sqrt{L/(2^{n_s}-1)}|1\\rangle \\right), $$\n",
    "\n",
    "which allows to run quantum amplitude estimation (**IterativeAmplitudeEstimation**) to evaluate the expected loss $E[L]$."
   ]
  },
  {
   "cell_type": "markdown",
   "id": "ab00e315",
   "metadata": {},
   "source": [
    "### Step 5. Calculate Cumulative Distribution Function  using operator $C$\n",
    "\n",
    "To estimate the CDF, i.e., the probability $\\mathbb{P}[L \\leq x]$, we apply a comparator $C$ (**IntegerComparator**) that for a given value $x$ acts as\n",
    "\n",
    "$$ \\mathcal{C}: |L\\rangle_n|0\\rangle \\mapsto \n",
    "\\begin{cases} \n",
    "|L\\rangle_n|1\\rangle & \\text{if}\\quad L \\leq x \\\\\n",
    "|L\\rangle_n|0\\rangle & \\text{if}\\quad L > x.\n",
    "\\end{cases} $$\n",
    "\n",
    "The resulting quantum state can be written as\n",
    "\n",
    "$$ \\sum_{L = 0}^{x} \\sqrt{p_{L}}|L\\rangle_{n_s}|1\\rangle + \n",
    "\\sum_{L = x+1}^{2^{n_s}-1} \\sqrt{p_{L}}|L\\rangle_{n_s}|0\\rangle, $$\n",
    "\n",
    "The CDF($x$) equals the probability of measuring $|1\\rangle$ in the objective qubit and quantum amplitude estimation (**IterativeAmplitudeEstimation**) can be directly used to estimate it.\n",
    "\n",
    "**Then we perform the bisection search for the value at risk.**"
   ]
  },
  {
   "cell_type": "markdown",
   "id": "3bf5da0e",
   "metadata": {},
   "source": [
    "### Step 6. Apply Quantum Amplitude Estimation to extract amplitude\n",
    "This estimation is obtained with quantum phase estimation and an operator $Q$ based on $A$ and defined by\n",
    "\n",
    "$$Q=A S_0 A^{\\dagger} S_{\\psi_0}$$\n",
    "$$S_0 = I - 2 |0\\rangle \\langle 0|$$ \n",
    "$$S_{\\psi_0} = I - 2 |\\psi_0\\rangle \\langle \\psi_0|$$\n",
    "\n",
    "<img src=\"https://raw.githubusercontent.com/ZiyuanLi007/quantumalg/main/technotes/images/cr/qcalg_cr_Qcircuit.png\" width=\"40%\" /> \n",
    "\n",
    "The operator $Q$ essentially causes a Y-rotation of angle $2 \\theta_a$ , i.e., $Q=R_y(2\\theta_a)$.\n",
    "\n",
    "Quantum amplitude estimation requires $m$ additional evaluation qubits and $M=2^m - 1$ applications of the $Q$ operator. \n",
    "\n",
    "<img src=\"https://raw.githubusercontent.com/ZiyuanLi007/quantumalg/main/technotes/images/cr/qcalg_cr_QAE.png\" width=\"40%\" />\n",
    "\n",
    "After applying the Inverse Quantum Fourier Transform, we got:\n",
    "$$QFT^{-1}(\\frac{1}{\\sqrt{2^m}}\\sum_{j=0}^{2^m-1}e^{2 i \\theta_a j}|j\\rangle|\\psi\\rangle) = \\frac{1}{\\pi}|\\theta_a\\rangle|\\psi\\rangle$$\n",
    "\n",
    "By taking measurement on the register of $m$ qubits, we can get the approximation of $\\theta_a$."
   ]
  },
  {
   "cell_type": "markdown",
   "id": "38b480d0",
   "metadata": {},
   "source": [
    "## 3. Practice with Qiskit"
   ]
  },
  {
   "cell_type": "markdown",
   "id": "879ef392",
   "metadata": {},
   "source": [
    "### 1. Define the problem and parameters"
   ]
  },
  {
   "cell_type": "code",
   "execution_count": 1,
   "id": "5799a61c",
   "metadata": {},
   "outputs": [],
   "source": [
    "import numpy as np\n",
    "import matplotlib.pyplot as plt\n",
    "\n",
    "from qiskit import QuantumRegister, QuantumCircuit, Aer, execute\n",
    "from qiskit.circuit.library import IntegerComparator\n",
    "from qiskit.utils import QuantumInstance\n",
    "from qiskit.algorithms import IterativeAmplitudeEstimation, FasterAmplitudeEstimation, EstimationProblem, AmplitudeEstimation, MaximumLikelihoodAmplitudeEstimation\n",
    "from qiskit_finance.circuit.library import GaussianConditionalIndependenceModel as GCI\n",
    "from qiskit.compiler import transpile\n",
    "\n",
    "# set problem parameters\n",
    "\n",
    "# UZ\n",
    "n_z = 5\n",
    "z_max = n_z\n",
    "z_values = np.linspace(-z_max, z_max, 2 ** n_z)\n",
    "\n",
    "# LX\n",
    "p_zeros = [0.15, 0.25, 0.15, 0.1]\n",
    "rhos = [0.1, 0.05, 0.1, 0.02]\n",
    "lgd = [1, 2, 2, 1]\n",
    "K = len(p_zeros)\n",
    "alpha = 0.05\n",
    "\n",
    "# LZ : Load Uncertainty Model\n",
    "u = GCI(n_z, z_max, p_zeros, rhos)"
   ]
  },
  {
   "cell_type": "markdown",
   "id": "21164aa1",
   "metadata": {},
   "source": [
    "### 2. Solve with classical calculation to get exact results"
   ]
  },
  {
   "cell_type": "code",
   "execution_count": 2,
   "id": "0e8e6dd1",
   "metadata": {},
   "outputs": [
    {
     "name": "stdout",
     "output_type": "stream",
     "text": [
      "Expected Loss E[L]:                1.0314\n",
      "Value at Risk VaR[L]:              3.0000\n",
      "P[L <= VaR[L]]:                    0.9528\n",
      "Conditional Value at Risk CVaR[L]: 4.2772\n"
     ]
    }
   ],
   "source": [
    "# run the circuit and analyze the results\n",
    "job = execute(u, backend=Aer.get_backend(\"statevector_simulator\"))\n",
    "\n",
    "# analyze uncertainty circuit and determine exact solutions\n",
    "p_z = np.zeros(2 ** n_z)\n",
    "p_default = np.zeros(K)\n",
    "values = []\n",
    "probabilities = []\n",
    "num_qubits = u.num_qubits\n",
    "state = job.result().get_statevector()\n",
    "if not isinstance(state, np.ndarray):\n",
    "    state = state.data\n",
    "for i, a in enumerate(state):\n",
    "\n",
    "    # get binary representation\n",
    "    b = (\"{0:0%sb}\" % num_qubits).format(i)\n",
    "    prob = np.abs(a) ** 2\n",
    "\n",
    "    # extract value of Z and corresponding probability\n",
    "    i_normal = int(b[-n_z:], 2)\n",
    "    p_z[i_normal] += prob\n",
    "\n",
    "    # determine overall default probability for k\n",
    "    loss = 0\n",
    "    for k in range(K):\n",
    "        if b[K - k - 1] == \"1\":\n",
    "            p_default[k] += prob\n",
    "            loss += lgd[k]\n",
    "    values += [loss]\n",
    "    probabilities += [prob]\n",
    "\n",
    "values = np.array(values)\n",
    "probabilities = np.array(probabilities)\n",
    "\n",
    "expected_loss = np.dot(values, probabilities)\n",
    "\n",
    "losses = np.sort(np.unique(values))\n",
    "pdf = np.zeros(len(losses))\n",
    "for i, v in enumerate(losses):\n",
    "    pdf[i] += sum(probabilities[values == v])\n",
    "cdf = np.cumsum(pdf)\n",
    "\n",
    "i_var = np.argmax(cdf >= 1 - alpha)\n",
    "exact_var = losses[i_var]\n",
    "exact_cvar = np.dot(pdf[(i_var + 1) :], losses[(i_var + 1) :]) / sum(pdf[(i_var + 1) :])\n",
    "\n",
    "print(\"Expected Loss E[L]:                %.4f\" % expected_loss)\n",
    "print(\"Value at Risk VaR[L]:              %.4f\" % exact_var)\n",
    "print(\"P[L <= VaR[L]]:                    %.4f\" % cdf[exact_var])\n",
    "print(\"Conditional Value at Risk CVaR[L]: %.4f\" % exact_cvar)"
   ]
  },
  {
   "cell_type": "code",
   "execution_count": 3,
   "id": "c49a3d8e",
   "metadata": {
    "scrolled": true
   },
   "outputs": [
    {
     "data": {
      "image/png": "[encoded data removed]",
      "text/plain": [
       "<Figure size 432x288 with 1 Axes>"
      ]
     },
     "metadata": {
      "needs_background": "light"
     },
     "output_type": "display_data"
    }
   ],
   "source": [
    "# plot loss PDF, expected loss, var, and cvar\n",
    "plt.bar(losses, pdf)\n",
    "plt.axvline(expected_loss, color=\"green\", linestyle=\"--\", label=\"E[L]\")\n",
    "plt.axvline(exact_var, color=\"orange\", linestyle=\"--\", label=\"VaR(L)\")\n",
    "plt.axvline(exact_cvar, color=\"red\", linestyle=\"--\", label=\"CVaR(L)\")\n",
    "plt.legend(fontsize=15)\n",
    "plt.xlabel(\"Loss L ($)\", size=15)\n",
    "plt.ylabel(\"probability (%)\", size=15)\n",
    "plt.title(\"Loss Distribution\", size=20)\n",
    "plt.xticks(size=15)\n",
    "plt.yticks(size=15)\n",
    "plt.show()"
   ]
  },
  {
   "cell_type": "code",
   "execution_count": 4,
   "id": "3ed0d1a4",
   "metadata": {
    "scrolled": false
   },
   "outputs": [
    {
     "data": {
      "image/png": "[encoded data removed]",
      "text/plain": [
       "<Figure size 432x288 with 1 Axes>"
      ]
     },
     "metadata": {
      "needs_background": "light"
     },
     "output_type": "display_data"
    }
   ],
   "source": [
    "# plot CDF\n",
    "plt.bar(losses, cdf)\n",
    "plt.xlabel(\"Loss L ($)\", size=15)\n",
    "plt.ylabel(\"probability (%)\", size=15)\n",
    "plt.title(\"Cumulative Distribution\", size=20)\n",
    "plt.xticks(size=15)\n",
    "plt.yticks(size=15)\n",
    "plt.yticks(np.arange(0, 1.01, 1e-1))\n",
    "plt.grid()\n",
    "plt.show()"
   ]
  },
  {
   "cell_type": "code",
   "execution_count": 5,
   "id": "ae4abcef",
   "metadata": {},
   "outputs": [
    {
     "data": {
      "image/png": "[encoded data removed]",
      "text/plain": [
       "<Figure size 432x288 with 1 Axes>"
      ]
     },
     "metadata": {
      "needs_background": "light"
     },
     "output_type": "display_data"
    }
   ],
   "source": [
    "# plot Uncertainty Model Z\n",
    "plt.plot(z_values, p_z, \"o-\", linewidth=3, markersize=8)\n",
    "plt.grid()\n",
    "plt.xlabel(\"Z value\", size=15)\n",
    "plt.ylabel(\"probability (%)\", size=15)\n",
    "plt.title(\"Z Distribution\", size=20)\n",
    "plt.xticks(size=15)\n",
    "plt.yticks(size=15)\n",
    "plt.show()"
   ]
  },
  {
   "cell_type": "markdown",
   "id": "33f460bc",
   "metadata": {},
   "source": [
    "### 3. Construct the A operator for Expected Loss $E[L]$"
   ]
  },
  {
   "cell_type": "code",
   "execution_count": 6,
   "id": "c0177c41",
   "metadata": {},
   "outputs": [
    {
     "data": {
      "image/png": "[encoded data removed]",
      "text/plain": [
       "<Figure size 396.191x987.28 with 1 Axes>"
      ]
     },
     "execution_count": 6,
     "metadata": {},
     "output_type": "execute_result"
    }
   ],
   "source": [
    "# add Z qubits with weight/loss 0\n",
    "from qiskit.circuit.library import WeightedAdder\n",
    "agg = WeightedAdder(n_z + K, [0] * n_z + lgd)\n",
    "\n",
    "from qiskit.circuit.library import LinearAmplitudeFunction\n",
    "# define linear objective function\n",
    "breakpoints = [0]\n",
    "slopes = [1]\n",
    "offsets = [0]\n",
    "f_min = 0\n",
    "f_max = sum(lgd)\n",
    "c_approx = 0.25\n",
    "\n",
    "objective = LinearAmplitudeFunction(\n",
    "    agg.num_sum_qubits,\n",
    "    slope=slopes,\n",
    "    offset=offsets,\n",
    "    # max value that can be reached by the qubit register (will not always be reached)\n",
    "    domain=(0, 2 ** agg.num_sum_qubits - 1),\n",
    "    image=(f_min, f_max),\n",
    "    rescaling_factor=c_approx,\n",
    "    breakpoints=breakpoints,\n",
    ")\n",
    "\n",
    "# define the registers for convenience and readability\n",
    "qr_state = QuantumRegister(u.num_qubits, \"state\")\n",
    "qr_sum = QuantumRegister(agg.num_sum_qubits, \"sum\")\n",
    "qr_carry = QuantumRegister(agg.num_carry_qubits+1, \"carry\")\n",
    "qr_obj = QuantumRegister(1, \"objective\")\n",
    "\n",
    "def get_expectedloss_circuit(): \n",
    "    # define the circuit\n",
    "    state_preparation = QuantumCircuit(qr_state, qr_obj, qr_sum, qr_carry, name=\"A\")\n",
    "\n",
    "    # load the random variable\n",
    "    state_preparation.append(u, qr_state)\n",
    "\n",
    "    # aggregate\n",
    "    state_preparation.append(agg, qr_state[:] + qr_sum[:] + qr_carry[:])\n",
    "\n",
    "    # linear objective function\n",
    "    state_preparation.append(objective.to_gate(), qr_sum[:] + qr_obj[:])\n",
    "\n",
    "    # uncompute aggregation\n",
    "    #state_preparation.append(agg.inverse(), qr_state[:] + qr_sum[:] + qr_carry[:])\n",
    "\n",
    "    return state_preparation\n",
    "\n",
    "state_preparation = get_expectedloss_circuit()\n",
    "#state_preparation.measure_all()\n",
    "# draw the circuit\n",
    "state_preparation.draw()\n",
    "\n",
    "# visuilize circuit\n",
    "# basic_gates=['u1', 'u2', 'u3', 'cx', 'ry', 'rx', 'rz']\n",
    "# state_preparation_transpile = transpile(state_preparation, basis_gates=basic_gates, optimization_level=3)\n",
    "# state_preparation_transpile.draw(output='mpl')"
   ]
  },
  {
   "cell_type": "markdown",
   "id": "1fb58ddd",
   "metadata": {},
   "source": [
    "### Execute QAE to estimate $E[L]$"
   ]
  },
  {
   "cell_type": "code",
   "execution_count": 7,
   "id": "e431b5d5",
   "metadata": {},
   "outputs": [
    {
     "name": "stdout",
     "output_type": "stream",
     "text": [
      "Exact value:    \t1.0314\n",
      "Estimated value:\t1.0553\n",
      "Confidence interval: \t[1.0151, 1.0956]\n"
     ]
    }
   ],
   "source": [
    "# set target precision and confidence level\n",
    "epsilon = 0.01\n",
    "alpha = 0.05\n",
    "\n",
    "qi = QuantumInstance(Aer.get_backend(\"aer_simulator\"), shots=100)\n",
    "problem = EstimationProblem(\n",
    "    state_preparation=state_preparation,\n",
    "    objective_qubits=[len(qr_state)],\n",
    "    post_processing=objective.post_processing,\n",
    ")\n",
    "\n",
    "# construct amplitude estimation\n",
    "#ae = AmplitudeEstimation(num_eval_qubits=3, quantum_instance=qi)\n",
    "ae = IterativeAmplitudeEstimation(epsilon, alpha=alpha, quantum_instance=qi)\n",
    "#ae = MaximumLikelihoodAmplitudeEstimation(evaluation_schedule=4, quantum_instance=qi)\n",
    "#ae = FasterAmplitudeEstimation(delta=0.01,maxiter=3,quantum_instance=qi,)\n",
    "result = ae.estimate(problem)\n",
    "\n",
    "# print results\n",
    "conf_int = np.array(result.confidence_interval_processed)\n",
    "print(\"Exact value:    \\t%.4f\" % expected_loss)\n",
    "print(\"Estimated value:\\t%.4f\" % result.estimation_processed)\n",
    "print(\"Confidence interval: \\t[%.4f, %.4f]\" % tuple(conf_int))"
   ]
  },
  {
   "cell_type": "markdown",
   "id": "d373b9d2",
   "metadata": {},
   "source": [
    "### 4. Construct the A operator for Cumulative Distribution Function $C[L]$"
   ]
  },
  {
   "cell_type": "code",
   "execution_count": 8,
   "id": "1d73b27e",
   "metadata": {},
   "outputs": [
    {
     "data": {
      "image/png": "[encoded data removed]",
      "text/plain": [
       "<Figure size 396.191x987.28 with 1 Axes>"
      ]
     },
     "execution_count": 8,
     "metadata": {},
     "output_type": "execute_result"
    }
   ],
   "source": [
    "# set x value to estimate the CDF\n",
    "x_eval = 2\n",
    "\n",
    "# comparator objective function\n",
    "comparator = IntegerComparator(agg.num_sum_qubits, x_eval + 1, geq=False)\n",
    "\n",
    "# define the registers for convenience and readability\n",
    "qr_compare = QuantumRegister(1, \"compare\")\n",
    "    \n",
    "def get_cdf_circuit(x_eval):\n",
    "    comparator = IntegerComparator(agg.num_sum_qubits, x_eval + 1, geq=False)\n",
    "\n",
    "    # define the circuit\n",
    "    state_preparation = QuantumCircuit(qr_state, qr_obj, qr_sum, qr_carry, name=\"A\")\n",
    "\n",
    "    # load the random variable\n",
    "    state_preparation.append(u, qr_state)\n",
    "\n",
    "    # aggregate\n",
    "    state_preparation.append(agg, qr_state[:] + qr_sum[:] + qr_carry[:])\n",
    "\n",
    "    state_preparation.append(comparator, qr_sum[:] + qr_obj[:] + qr_carry[:-1])\n",
    "\n",
    "    # uncompute aggregation\n",
    "    #state_preparation.append(agg.inverse(), qr_state[:] + qr_sum[:] + qr_carry[:])\n",
    "\n",
    "    return state_preparation\n",
    "\n",
    "state_preparation = get_cdf_circuit(x_eval)\n",
    "state_preparation.draw()"
   ]
  },
  {
   "cell_type": "markdown",
   "id": "089efccd",
   "metadata": {},
   "source": [
    "### Execute QAE to estimate $C[L]$"
   ]
  },
  {
   "cell_type": "code",
   "execution_count": 9,
   "id": "d3072121",
   "metadata": {},
   "outputs": [
    {
     "name": "stdout",
     "output_type": "stream",
     "text": [
      "Exact value:    \t0.8807\n",
      "Estimated value:\t0.8808\n",
      "Confidence interval: \t[0.8799, 0.8816]\n"
     ]
    }
   ],
   "source": [
    "# set target precision and confidence level\n",
    "epsilon = 0.01\n",
    "alpha = 0.05\n",
    "\n",
    "qi = QuantumInstance(Aer.get_backend(\"aer_simulator\"), shots=300)\n",
    "problem = EstimationProblem(state_preparation=state_preparation, objective_qubits=[len(qr_state)])\n",
    "# construct amplitude estimation\n",
    "ae_cdf = IterativeAmplitudeEstimation(epsilon, alpha=alpha, quantum_instance=qi)\n",
    "result_cdf = ae_cdf.estimate(problem)\n",
    "\n",
    "# print results\n",
    "conf_int = np.array(result_cdf.confidence_interval)\n",
    "print(\"Exact value:    \\t%.4f\" % cdf[x_eval])\n",
    "print(\"Estimated value:\\t%.4f\" % result_cdf.estimation)\n",
    "print(\"Confidence interval: \\t[%.4f, %.4f]\" % tuple(conf_int))"
   ]
  },
  {
   "cell_type": "markdown",
   "id": "5760fa87",
   "metadata": {},
   "source": [
    "### 5. Perform Bisection Search  to get the value at risk $\\text{VaR}_{\\alpha}(L)$"
   ]
  },
  {
   "cell_type": "code",
   "execution_count": 10,
   "id": "800ed210",
   "metadata": {},
   "outputs": [],
   "source": [
    "def run_ae_for_cdf(x_eval, epsilon=0.01, alpha=0.05, simulator=\"aer_simulator\"):\n",
    "\n",
    "    # construct amplitude estimation\n",
    "    state_preparation = get_cdf_circuit(x_eval)\n",
    "    qi = QuantumInstance(Aer.get_backend(\"aer_simulator\"), shots=100)\n",
    "    problem = EstimationProblem(\n",
    "        state_preparation=state_preparation, objective_qubits=[len(qr_state)]\n",
    "    )\n",
    "    ae_var = IterativeAmplitudeEstimation(epsilon, alpha=alpha, quantum_instance=qi)\n",
    "    result_var = ae_var.estimate(problem)\n",
    "\n",
    "    return result_var.estimation\n",
    "\n",
    "def bisection_search(\n",
    "    objective, target_value, low_level, high_level, low_value=None, high_value=None\n",
    "):\n",
    "    \"\"\"\n",
    "    Determines the smallest level such that the objective value is still larger than the target\n",
    "    :param objective: objective function\n",
    "    :param target: target value\n",
    "    :param low_level: lowest level to be considered\n",
    "    :param high_level: highest level to be considered\n",
    "    :param low_value: value of lowest level (will be evaluated if set to None)\n",
    "    :param high_value: value of highest level (will be evaluated if set to None)\n",
    "    :return: dictionary with level, value, num_eval\n",
    "    \"\"\"\n",
    "\n",
    "    # check whether low and high values are given and evaluated them otherwise\n",
    "    print(\"--------------------------------------------------------------------\")\n",
    "    print(\"start bisection search for target value %.3f\" % target_value)\n",
    "    print(\"--------------------------------------------------------------------\")\n",
    "    num_eval = 0\n",
    "    if low_value is None:\n",
    "        low_value = objective(low_level)\n",
    "        num_eval += 1\n",
    "    if high_value is None:\n",
    "        high_value = objective(high_level)\n",
    "        num_eval += 1\n",
    "\n",
    "    # check if low_value already satisfies the condition\n",
    "    if low_value > target_value:\n",
    "        return {\n",
    "            \"level\": low_level,\n",
    "            \"value\": low_value,\n",
    "            \"num_eval\": num_eval,\n",
    "            \"comment\": \"returned low value\",\n",
    "        }\n",
    "    elif low_value == target_value:\n",
    "        return {\"level\": low_level, \"value\": low_value, \"num_eval\": num_eval, \"comment\": \"success\"}\n",
    "\n",
    "    # check if high_value is above target\n",
    "    if high_value < target_value:\n",
    "        return {\n",
    "            \"level\": high_level,\n",
    "            \"value\": high_value,\n",
    "            \"num_eval\": num_eval,\n",
    "            \"comment\": \"returned low value\",\n",
    "        }\n",
    "    elif high_value == target_value:\n",
    "        return {\n",
    "            \"level\": high_level,\n",
    "            \"value\": high_value,\n",
    "            \"num_eval\": num_eval,\n",
    "            \"comment\": \"success\",\n",
    "        }\n",
    "\n",
    "    # perform bisection search until\n",
    "    print(\"low_level    low_value    level    value    high_level    high_value\")\n",
    "    print(\"--------------------------------------------------------------------\")\n",
    "    while high_level - low_level > 1:\n",
    "\n",
    "        level = int(np.round((high_level + low_level) / 2.0))\n",
    "        num_eval += 1\n",
    "        value = objective(level)\n",
    "\n",
    "        print(\n",
    "            \"%2d           %.3f        %2d       %.3f    %2d            %.3f\"\n",
    "            % (low_level, low_value, level, value, high_level, high_value)\n",
    "        )\n",
    "\n",
    "        if value >= target_value:\n",
    "            high_level = level\n",
    "            high_value = value\n",
    "        else:\n",
    "            low_level = level\n",
    "            low_value = value\n",
    "\n",
    "    # return high value after bisection search\n",
    "    print(\"--------------------------------------------------------------------\")\n",
    "    print(\"finished bisection search\")\n",
    "    print(\"--------------------------------------------------------------------\")\n",
    "    return {\"level\": high_level, \"value\": high_value, \"num_eval\": num_eval, \"comment\": \"success\"}"
   ]
  },
  {
   "cell_type": "code",
   "execution_count": 11,
   "id": "7fcd11b1",
   "metadata": {},
   "outputs": [
    {
     "name": "stdout",
     "output_type": "stream",
     "text": [
      "--------------------------------------------------------------------\n",
      "start bisection search for target value 0.950\n",
      "--------------------------------------------------------------------\n",
      "low_level    low_value    level    value    high_level    high_value\n",
      "--------------------------------------------------------------------\n",
      "-1           0.000         2       0.880     6            1.000\n",
      " 2           0.880         4       0.988     6            1.000\n",
      " 2           0.880         3       0.954     4            0.988\n",
      "--------------------------------------------------------------------\n",
      "finished bisection search\n",
      "--------------------------------------------------------------------\n",
      "Estimated Value at Risk:  3\n",
      "Exact Value at Risk:      3\n",
      "Estimated Probability:    0.954\n",
      "Exact Probability:        0.953\n"
     ]
    }
   ],
   "source": [
    "# run bisection search to determine VaR\n",
    "objective = lambda x: run_ae_for_cdf(x)\n",
    "bisection_result = bisection_search(\n",
    "    objective, 1 - alpha, min(losses) - 1, max(losses), low_value=0, high_value=1\n",
    ")\n",
    "var = bisection_result[\"level\"]\n",
    "\n",
    "print(\"Estimated Value at Risk: %2d\" % var)\n",
    "print(\"Exact Value at Risk:     %2d\" % exact_var)\n",
    "print(\"Estimated Probability:    %.3f\" % bisection_result[\"value\"])\n",
    "print(\"Exact Probability:        %.3f\" % cdf[exact_var])"
   ]
  },
  {
   "cell_type": "markdown",
   "id": "9b02239e",
   "metadata": {},
   "source": [
    "> Reference \n",
    "> 1. https://jsybruce.github.io/Homepage/2021/12/01/Option-Pricing-with-Quantum-Monte-Carlo-Simulation-copy.html\n",
    "> 2. S. Woerner and D. J. Egger, “Quantum risk analysis,” NPJ Quantum Inf., vol. 5, 2019, Art. no. 15.\n",
    "> 3. D. Egger, R. Garcia Gutierrez, J. Mestre and S. Woerner, \"Credit Risk Analysis Using Quantum Computers\" in IEEE Transactions on Computers, vol. 70, no. 12, pp. 2136-2145, 2021.\n",
    "> 4. H.Tang, et al., \"Quantum computation for pricing the collateralized debt obligations\", Quantum Engineering (2021)"
   ]
  }
 ],
 "metadata": {
  "kernelspec": {
   "display_name": "Python 3 (ipykernel)",
   "language": "python",
   "name": "python3"
  },
  "language_info": {
   "codemirror_mode": {
    "name": "ipython",
    "version": 3
   },
   "file_extension": ".py",
   "mimetype": "text/x-python",
   "name": "python",
   "nbconvert_exporter": "python",
   "pygments_lexer": "ipython3",
   "version": "3.7.11"
  }
 },
 "nbformat": 4,
 "nbformat_minor": 5
}
